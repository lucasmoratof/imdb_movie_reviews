{
  "nbformat": 4,
  "nbformat_minor": 0,
  "metadata": {
    "kernelspec": {
      "display_name": "Python 3",
      "language": "python",
      "name": "python3"
    },
    "language_info": {
      "codemirror_mode": {
        "name": "ipython",
        "version": 3
      },
      "file_extension": ".py",
      "mimetype": "text/x-python",
      "name": "python",
      "nbconvert_exporter": "python",
      "pygments_lexer": "ipython3",
      "version": "3.7.3"
    },
    "toc": {
      "base_numbering": 1,
      "nav_menu": {},
      "number_sections": true,
      "sideBar": true,
      "skip_h1_title": false,
      "title_cell": "Table of Contents",
      "title_sidebar": "Contents",
      "toc_cell": false,
      "toc_position": {},
      "toc_section_display": true,
      "toc_window_display": false
    },
    "colab": {
      "name": "NLP - Entity Recognition project.ipynb",
      "provenance": [],
      "include_colab_link": true
    }
  },
  "cells": [
    {
      "cell_type": "markdown",
      "metadata": {
        "id": "view-in-github",
        "colab_type": "text"
      },
      "source": [
        "<a href=\"https://colab.research.google.com/github/lucasmoratof/nlp_basic_projects/blob/master/NLP_Entity_Recognition_project.ipynb\" target=\"_parent\"><img src=\"https://colab.research.google.com/assets/colab-badge.svg\" alt=\"Open In Colab\"/></a>"
      ]
    },
    {
      "cell_type": "markdown",
      "metadata": {
        "id": "6-nz50cxbfdP",
        "colab_type": "text"
      },
      "source": [
        "### Introduction to Named Entity Recognition\n",
        "\n",
        "This notebook will cover the basics of Entity Recognition in python using spacy.\n",
        "\n"
      ]
    },
    {
      "cell_type": "code",
      "metadata": {
        "id": "zPCGvAPxbJpw",
        "colab_type": "code",
        "colab": {}
      },
      "source": [
        "import pandas as pd\n",
        "import numpy as np\n",
        "import seaborn as sns\n",
        "import matplotlib.pyplot as plt\n",
        "import string\n",
        "from collections import Counter\n",
        "\n",
        "import spacy\n",
        "from spacy.lang.en.stop_words import STOP_WORDS"
      ],
      "execution_count": 0,
      "outputs": []
    },
    {
      "cell_type": "code",
      "metadata": {
        "id": "yrkZaJhQbJp7",
        "colab_type": "code",
        "colab": {}
      },
      "source": [
        "got1 = pd.read_table('/content/got1.txt', header=None, delimiter='\\t')"
      ],
      "execution_count": 0,
      "outputs": []
    },
    {
      "cell_type": "code",
      "metadata": {
        "id": "JIK2XCewkUNe",
        "colab_type": "code",
        "colab": {
          "base_uri": "https://localhost:8080/",
          "height": 204
        },
        "outputId": "ae9e729d-14a6-4eb0-bb6f-78475faa9751"
      },
      "source": [
        "got1.head()"
      ],
      "execution_count": 4,
      "outputs": [
        {
          "output_type": "execute_result",
          "data": {
            "text/html": [
              "<div>\n",
              "<style scoped>\n",
              "    .dataframe tbody tr th:only-of-type {\n",
              "        vertical-align: middle;\n",
              "    }\n",
              "\n",
              "    .dataframe tbody tr th {\n",
              "        vertical-align: top;\n",
              "    }\n",
              "\n",
              "    .dataframe thead th {\n",
              "        text-align: right;\n",
              "    }\n",
              "</style>\n",
              "<table border=\"1\" class=\"dataframe\">\n",
              "  <thead>\n",
              "    <tr style=\"text-align: right;\">\n",
              "      <th></th>\n",
              "      <th>0</th>\n",
              "    </tr>\n",
              "  </thead>\n",
              "  <tbody>\n",
              "    <tr>\n",
              "      <th>0</th>\n",
              "      <td>This edition contains the complete text of the...</td>\n",
              "    </tr>\n",
              "    <tr>\n",
              "      <th>1</th>\n",
              "      <td>NOT ONE WORD HAS BEEN OMITTED.</td>\n",
              "    </tr>\n",
              "    <tr>\n",
              "      <th>2</th>\n",
              "      <td>A CLASH OF KINGS</td>\n",
              "    </tr>\n",
              "    <tr>\n",
              "      <th>3</th>\n",
              "      <td>A Bantam Spectra Book</td>\n",
              "    </tr>\n",
              "    <tr>\n",
              "      <th>4</th>\n",
              "      <td>PUBLISHING HISTORY</td>\n",
              "    </tr>\n",
              "  </tbody>\n",
              "</table>\n",
              "</div>"
            ],
            "text/plain": [
              "                                                   0\n",
              "0  This edition contains the complete text of the...\n",
              "1                     NOT ONE WORD HAS BEEN OMITTED.\n",
              "2                                   A CLASH OF KINGS\n",
              "3                              A Bantam Spectra Book\n",
              "4                                 PUBLISHING HISTORY"
            ]
          },
          "metadata": {
            "tags": []
          },
          "execution_count": 4
        }
      ]
    },
    {
      "cell_type": "code",
      "metadata": {
        "id": "HhJAr0ltbJp_",
        "colab_type": "code",
        "colab": {}
      },
      "source": [
        "# creating the nlp obejct\n",
        "nlp = spacy.load(\"en_core_web_sm\")"
      ],
      "execution_count": 0,
      "outputs": []
    },
    {
      "cell_type": "code",
      "metadata": {
        "id": "lsXjaWKfbJqE",
        "colab_type": "code",
        "colab": {}
      },
      "source": [
        "# Loop to get the names from each line:\n",
        "\n",
        "words_names = []\n",
        "\n",
        "for line in got1[0]:\n",
        "    \n",
        "    doc= nlp(line)\n",
        "    \n",
        "    names = [ent.text for ent in doc.ents if ent.label_ == 'PERSON']\n",
        "    \n",
        "    words_names.append(names)"
      ],
      "execution_count": 0,
      "outputs": []
    },
    {
      "cell_type": "code",
      "metadata": {
        "id": "ZcuOuWqqn11z",
        "colab_type": "code",
        "colab": {
          "base_uri": "https://localhost:8080/",
          "height": 204
        },
        "outputId": "d317fa3a-a632-4750-f41e-8f3c83a8eec8"
      },
      "source": [
        "# Now we need to organize them and count their frequency\n",
        "names= [line for line in words_names for line in set(line)]\n",
        "\n",
        "names_count= Counter(names).most_common(10)\n",
        "\n",
        "print(pd.DataFrame(names_count))"
      ],
      "execution_count": 13,
      "outputs": [
        {
          "output_type": "stream",
          "text": [
            "         0    1\n",
            "0      Jon  320\n",
            "1     Arya  255\n",
            "2  Joffrey  247\n",
            "3  Catelyn  232\n",
            "4    Theon  145\n",
            "5     Robb  131\n",
            "6    Sansa  129\n",
            "7   Robert  120\n",
            "8    Grace  116\n",
            "9    Yoren   89\n"
          ],
          "name": "stdout"
        }
      ]
    },
    {
      "cell_type": "code",
      "metadata": {
        "id": "LnCDBuO6rMZJ",
        "colab_type": "code",
        "colab": {
          "base_uri": "https://localhost:8080/",
          "height": 302
        },
        "outputId": "b9ad479a-8d52-4fac-f9e9-0cd863d0dca9"
      },
      "source": [
        "# To make it easier to visualize, why not a bar plot?\n",
        "\n",
        "labels, values= zip(*names_count)\n",
        "\n",
        "indexes = np.arange(len(labels))\n",
        "width = 1\n",
        "\n",
        "sns.set(style=\"whitegrid\")\n",
        "\n",
        "ax = sns.barplot(indexes, values, palette=\"RdBu\")\n",
        "\n",
        "plt.xticks(indexes + width * 0.1, labels, rotation=30);\n",
        "plt.tick_params(axis='x', labelsize=10)\n",
        "plt.title(\"Most Common Names in the Book 1 of Games of Thrones\");"
      ],
      "execution_count": 15,
      "outputs": [
        {
          "output_type": "display_data",
          "data": {
            "image/png": "[encoded data removed]",
            "text/plain": [
              "<Figure size 432x288 with 1 Axes>"
            ]
          },
          "metadata": {
            "tags": []
          }
        }
      ]
    },
    {
      "cell_type": "markdown",
      "metadata": {
        "id": "h89lU54Orn8M",
        "colab_type": "text"
      },
      "source": [
        "### Analysis\n",
        "\n",
        "This notebook might seem simple, but it shows a powerful tool that spacy offers to us, its ability to predict the function of a word. Keep in mind that we didn't told the algortihm what is a name or not, it simply predict by itself. \n",
        "\n",
        "To get deeper in this particular case, we could iterate over the books to compare the names in each, or even the most popular ones accross the whole series.\n",
        "\n",
        "As we use the example with names, we could explore"
      ]
    }
  ]
}