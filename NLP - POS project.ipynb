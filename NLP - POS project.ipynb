{
 "cells": [
  {
   "cell_type": "code",
   "execution_count": 58,
   "metadata": {},
   "outputs": [],
   "source": [
    "import pandas as pd\n",
    "import numpy as np\n",
    "import seaborn as sns\n",
    "import matplotlib.pyplot as plt\n",
    "import string\n",
    "\n",
    "import spacy\n",
    "from spacy.lang.en.stop_words import STOP_WORDS"
   ]
  },
  {
   "cell_type": "code",
   "execution_count": 5,
   "metadata": {},
   "outputs": [],
   "source": [
    "# check where you stored the file in order to open it!\n",
    "df= pd.read_csv(r'..\\labeledTrainData.tsv.zip', compression='zip', delimiter='\\t')"
   ]
  },
  {
   "cell_type": "code",
   "execution_count": 6,
   "metadata": {},
   "outputs": [
    {
     "data": {
      "text/html": [
       "<div>\n",
       "<style scoped>\n",
       "    .dataframe tbody tr th:only-of-type {\n",
       "        vertical-align: middle;\n",
       "    }\n",
       "\n",
       "    .dataframe tbody tr th {\n",
       "        vertical-align: top;\n",
       "    }\n",
       "\n",
       "    .dataframe thead th {\n",
       "        text-align: right;\n",
       "    }\n",
       "</style>\n",
       "<table border=\"1\" class=\"dataframe\">\n",
       "  <thead>\n",
       "    <tr style=\"text-align: right;\">\n",
       "      <th></th>\n",
       "      <th>id</th>\n",
       "      <th>sentiment</th>\n",
       "      <th>review</th>\n",
       "    </tr>\n",
       "  </thead>\n",
       "  <tbody>\n",
       "    <tr>\n",
       "      <th>0</th>\n",
       "      <td>5814_8</td>\n",
       "      <td>1</td>\n",
       "      <td>With all this stuff going down at the moment w...</td>\n",
       "    </tr>\n",
       "    <tr>\n",
       "      <th>1</th>\n",
       "      <td>2381_9</td>\n",
       "      <td>1</td>\n",
       "      <td>\\The Classic War of the Worlds\\\" by Timothy Hi...</td>\n",
       "    </tr>\n",
       "    <tr>\n",
       "      <th>2</th>\n",
       "      <td>7759_3</td>\n",
       "      <td>0</td>\n",
       "      <td>The film starts with a manager (Nicholas Bell)...</td>\n",
       "    </tr>\n",
       "    <tr>\n",
       "      <th>3</th>\n",
       "      <td>3630_4</td>\n",
       "      <td>0</td>\n",
       "      <td>It must be assumed that those who praised this...</td>\n",
       "    </tr>\n",
       "    <tr>\n",
       "      <th>4</th>\n",
       "      <td>9495_8</td>\n",
       "      <td>1</td>\n",
       "      <td>Superbly trashy and wondrously unpretentious 8...</td>\n",
       "    </tr>\n",
       "  </tbody>\n",
       "</table>\n",
       "</div>"
      ],
      "text/plain": [
       "       id  sentiment                                             review\n",
       "0  5814_8          1  With all this stuff going down at the moment w...\n",
       "1  2381_9          1  \\The Classic War of the Worlds\\\" by Timothy Hi...\n",
       "2  7759_3          0  The film starts with a manager (Nicholas Bell)...\n",
       "3  3630_4          0  It must be assumed that those who praised this...\n",
       "4  9495_8          1  Superbly trashy and wondrously unpretentious 8..."
      ]
     },
     "execution_count": 6,
     "metadata": {},
     "output_type": "execute_result"
    }
   ],
   "source": [
    "df.head()"
   ]
  },
  {
   "cell_type": "code",
   "execution_count": 138,
   "metadata": {},
   "outputs": [],
   "source": [
    "# creating the nlp obejct\n",
    "nlp = spacy.load(\"en_core_web_sm\")\n",
    "\n",
    "# defining the stop_words and punctuations we want to remove\n",
    "punctuations = string.punctuation\n",
    "stopwords = spacy.lang.en.stop_words.STOP_WORDS"
   ]
  },
  {
   "cell_type": "code",
   "execution_count": 168,
   "metadata": {},
   "outputs": [],
   "source": [
    "# Loop to get just the adjectives from each review\n",
    "\n",
    "words_adj = []\n",
    "\n",
    "for line in df['review']:\n",
    "    \n",
    "    doc= nlp(line)\n",
    "    \n",
    "    tokens = [tok.lemma_.lower().strip() for tok in doc if tok.pos_ == 'ADJ']\n",
    "    \n",
    "    words_adj.append(tokens)"
   ]
  },
  {
   "cell_type": "code",
   "execution_count": 174,
   "metadata": {},
   "outputs": [
    {
     "data": {
      "text/html": [
       "<div>\n",
       "<style scoped>\n",
       "    .dataframe tbody tr th:only-of-type {\n",
       "        vertical-align: middle;\n",
       "    }\n",
       "\n",
       "    .dataframe tbody tr th {\n",
       "        vertical-align: top;\n",
       "    }\n",
       "\n",
       "    .dataframe thead th {\n",
       "        text-align: right;\n",
       "    }\n",
       "</style>\n",
       "<table border=\"1\" class=\"dataframe\">\n",
       "  <thead>\n",
       "    <tr style=\"text-align: right;\">\n",
       "      <th></th>\n",
       "      <th>id</th>\n",
       "      <th>sentiment</th>\n",
       "      <th>review</th>\n",
       "      <th>words_adj</th>\n",
       "    </tr>\n",
       "  </thead>\n",
       "  <tbody>\n",
       "    <tr>\n",
       "      <th>0</th>\n",
       "      <td>5814_8</td>\n",
       "      <td>1</td>\n",
       "      <td>With all this stuff going down at the moment w...</td>\n",
       "      <td>[odd, certain, cool, guilty, innocent, subtle,...</td>\n",
       "    </tr>\n",
       "    <tr>\n",
       "      <th>1</th>\n",
       "      <td>2381_9</td>\n",
       "      <td>1</td>\n",
       "      <td>\\The Classic War of the Worlds\\\" by Timothy Hi...</td>\n",
       "      <td>[entertaining, great, recreate, classic, stand...</td>\n",
       "    </tr>\n",
       "    <tr>\n",
       "      <th>2</th>\n",
       "      <td>7759_3</td>\n",
       "      <td>0</td>\n",
       "      <td>The film starts with a manager (Nicholas Bell)...</td>\n",
       "      <td>[welcome, secret, primal, fearsome, scientific...</td>\n",
       "    </tr>\n",
       "    <tr>\n",
       "      <th>3</th>\n",
       "      <td>3630_4</td>\n",
       "      <td>0</td>\n",
       "      <td>It must be assumed that those who praised this...</td>\n",
       "      <td>[great, unmitigated, leaden, lugubrious, quest...</td>\n",
       "    </tr>\n",
       "    <tr>\n",
       "      <th>4</th>\n",
       "      <td>9495_8</td>\n",
       "      <td>1</td>\n",
       "      <td>Superbly trashy and wondrously unpretentious 8...</td>\n",
       "      <td>[trashy, unpretentious, pre, -, false, serious...</td>\n",
       "    </tr>\n",
       "  </tbody>\n",
       "</table>\n",
       "</div>"
      ],
      "text/plain": [
       "       id  sentiment                                             review  \\\n",
       "0  5814_8          1  With all this stuff going down at the moment w...   \n",
       "1  2381_9          1  \\The Classic War of the Worlds\\\" by Timothy Hi...   \n",
       "2  7759_3          0  The film starts with a manager (Nicholas Bell)...   \n",
       "3  3630_4          0  It must be assumed that those who praised this...   \n",
       "4  9495_8          1  Superbly trashy and wondrously unpretentious 8...   \n",
       "\n",
       "                                           words_adj  \n",
       "0  [odd, certain, cool, guilty, innocent, subtle,...  \n",
       "1  [entertaining, great, recreate, classic, stand...  \n",
       "2  [welcome, secret, primal, fearsome, scientific...  \n",
       "3  [great, unmitigated, leaden, lugubrious, quest...  \n",
       "4  [trashy, unpretentious, pre, -, false, serious...  "
      ]
     },
     "execution_count": 174,
     "metadata": {},
     "output_type": "execute_result"
    }
   ],
   "source": [
    "# create a new column with the adjectives\n",
    "df['words_adj'] = pd.Series(words_adj)\n",
    "\n",
    "df.head()"
   ]
  },
  {
   "cell_type": "markdown",
   "metadata": {},
   "source": [
    "### Most Common Positive Adjectives"
   ]
  },
  {
   "cell_type": "code",
   "execution_count": 184,
   "metadata": {},
   "outputs": [
    {
     "name": "stdout",
     "output_type": "stream",
     "text": [
      "[('good', 6270), ('great', 4372), ('other', 3416), ('more', 2917), ('many', 2775), ('first', 2492), ('little', 2364), ('old', 1937), ('real', 1855), ('young', 1790)]\n"
     ]
    }
   ],
   "source": [
    "# first, get just the adjectives from positive reviews\n",
    "\n",
    "positive_adj= df[df['sentiment']==1]['words_adj']\n",
    "\n",
    "pos_words= [line for line in positive_adj for line in set(line)]\n",
    "\n",
    "pos_adj_count= Counter(pos_words).most_common(10)\n",
    "\n",
    "print(pos_adj_count)"
   ]
  },
  {
   "cell_type": "markdown",
   "metadata": {},
   "source": [
    "### Most Common Negative Adjectives"
   ]
  },
  {
   "cell_type": "code",
   "execution_count": 186,
   "metadata": {},
   "outputs": [
    {
     "name": "stdout",
     "output_type": "stream",
     "text": [
      "[('bad', 5646), ('good', 5443), ('other', 3200), ('more', 2597), ('first', 2256), ('little', 2219), ('many', 2215), ('great', 2174), ('well', 2140), ('only', 1949)]\n"
     ]
    }
   ],
   "source": [
    "# first, get just the adjectives from positive reviews\n",
    "\n",
    "negative_adj= df[df['sentiment']==0]['words_adj']\n",
    "\n",
    "neg_words= [line for line in negative_adj for line in set(line)]\n",
    "\n",
    "neg_adj_count= Counter(neg_words).most_common(10)\n",
    "\n",
    "print(neg_adj_count)"
   ]
  },
  {
   "cell_type": "markdown",
   "metadata": {},
   "source": [
    "### Plotting Results"
   ]
  },
  {
   "cell_type": "code",
   "execution_count": 238,
   "metadata": {},
   "outputs": [
    {
     "data": {
      "image/png": "[encoded data removed]",
      "text/plain": [
       "<Figure size 432x288 with 1 Axes>"
      ]
     },
     "metadata": {},
     "output_type": "display_data"
    }
   ],
   "source": [
    "# POSITIVE ADJECTIVES\n",
    "# first, separate labels and values\n",
    "\n",
    "labels, values= zip(*pos_adj_count)\n",
    "\n",
    "indexes = np.arange(len(labels))\n",
    "width = 1\n",
    "\n",
    "sns.set(style=\"whitegrid\")\n",
    "\n",
    "ax = sns.barplot(indexes, values, palette=\"BuGn_r\")\n",
    "\n",
    "plt.xticks(indexes + width * 0.1, labels, rotation=30);\n",
    "plt.tick_params(axis='x', labelsize=13)\n",
    "plt.title(\"Most Common Positive Adjectives in IMDB Reviews\");"
   ]
  },
  {
   "cell_type": "code",
   "execution_count": 237,
   "metadata": {},
   "outputs": [
    {
     "data": {
      "image/png": "[encoded data removed]",
      "text/plain": [
       "<Figure size 432x288 with 1 Axes>"
      ]
     },
     "metadata": {},
     "output_type": "display_data"
    }
   ],
   "source": [
    "# NEGATIVE ADJECTIVES\n",
    "# first, separate labels and values\n",
    "\n",
    "labels, values= zip(*neg_adj_count)\n",
    "\n",
    "indexes = np.arange(len(labels))\n",
    "width = 1\n",
    "\n",
    "sns.set(style=\"whitegrid\")\n",
    "\n",
    "ax = sns.barplot(indexes, values, palette=\"RdBu\")\n",
    "\n",
    "plt.xticks(indexes + width * 0.1, labels, rotation=30); # we use the semicolumn to avoid plotting text on the output\n",
    "plt.tick_params(axis='x', labelsize=13)\n",
    "plt.title(\"Most Common Negative Adjectives in IMDB Reviews\");"
   ]
  },
  {
   "cell_type": "markdown",
   "metadata": {},
   "source": [
    "### Analysis\n",
    "\n",
    "On this project our goal was to use spacy to discover the most popular adjectives used in movie reviews depending on the sentiment. We used the Part-of Speech predictor to filter the words we wanted to keep.\n",
    "\n",
    "We discovered that \"good\" is the first most common adjective for positive reviews, but surprisingly it was also ranked as the second most common adjective for negative reviews. It is an interesting finding that could be investigated further, like using bigrams to discover the common words used before and after \"good\" according to the sentiment.\n",
    "\n",
    "Use spacy to perform analysis and not just Machine Learning predictions is a valuable tool for any data scientist/analyst. The possibilities are huge, and much more exploration can be done in that context."
   ]
  }
 ],
 "metadata": {
  "kernelspec": {
   "display_name": "Python 3",
   "language": "python",
   "name": "python3"
  },
  "language_info": {
   "codemirror_mode": {
    "name": "ipython",
    "version": 3
   },
   "file_extension": ".py",
   "mimetype": "text/x-python",
   "name": "python",
   "nbconvert_exporter": "python",
   "pygments_lexer": "ipython3",
   "version": "3.7.3"
  },
  "toc": {
   "base_numbering": 1,
   "nav_menu": {},
   "number_sections": true,
   "sideBar": true,
   "skip_h1_title": false,
   "title_cell": "Table of Contents",
   "title_sidebar": "Contents",
   "toc_cell": false,
   "toc_position": {},
   "toc_section_display": true,
   "toc_window_display": false
  }
 },
 "nbformat": 4,
 "nbformat_minor": 2
}
